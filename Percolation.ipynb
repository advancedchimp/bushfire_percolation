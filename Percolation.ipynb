{
 "cells": [
  {
   "cell_type": "code",
   "execution_count": null,
   "id": "3cfe75c5",
   "metadata": {},
   "outputs": [],
   "source": [
    "import pandas as pd\n",
    "import numpy as np\n",
    "from numpy.random import default_rng\n",
    "from matplotlib import pyplot as plt\n",
    "from typing import Dict, Callable, Optional, List, Tuple, Any, Literal"
   ]
  },
  {
   "cell_type": "markdown",
   "id": "fc409e69",
   "metadata": {},
   "source": [
    "# Introduction\n",
    "This notebook explores the classic percolation model for bushfire modelling and in the second part considers fuel amount following a Poisson distribution.\n",
    "\n",
    "Suppose you are given an aerial image of the vegetation bordering on a town. You would like to evaluate the risk of fire starting at one end spreading all the way to the other side and causing damage to the town. A simple model is the following:\n",
    "\n",
    "Let's divide the image into square cells like a chess board. For a cell you then look at the image and if you see some sign of vegetation (trees, greenery, bushes) you record that the cell contains burnable fuel. Do this for every cell on the board and you obtain a grid where some cells contain fuel and some that are empty. \n",
    "\n",
    "Now let's assume that only cells containing fuel can catch fire and then the fire will spread to its four adjacent neighbours (north, south, west, east).\n",
    "\n",
    "This is a simplistic model with some apparent unrealistic assumptions:\n",
    "\n",
    "1. We are forcing each cell to be in a binary state of either containing fuel or not but the type and quantity in each cell lies on a continuous spectrum.\n",
    "2. The fire can only spread in cardinal directions? What about the diagonal neighbours, or if we have hexagonal shaped cells or any other type of subdivision of the plane (plane tilings).\n",
    "3. Does fire always spread to all of its neighbours? This could depend on many factors that are ignored in this simple model, notably weather conditions such as wind, humidity etc... Here we assume the worst case that fire does always spread to all neigbhours containing fuel.\n",
    "\n",
    "As for the first point, in a later section the case where a cell can contain a random amount of burnable fuel is explored."
   ]
  },
  {
   "cell_type": "code",
   "execution_count": null,
   "id": "4645bf53",
   "metadata": {},
   "outputs": [],
   "source": [
    "def assertIndex(ind):\n",
    "    '''assert function for index accessing cell in a lattice\n",
    "    \n",
    "    assert is passed if ind is a tuple[int, int]\n",
    "    '''\n",
    "    assert type(ind) == tuple and len(ind) == 2, (\n",
    "    f'ind must be a tuple of length 2, not a {type(ind)} of length {len(ind)}')\n",
    "    i, j = ind\n",
    "    \n",
    "    assert (type(i), type(j)) == ((int, int)), (\n",
    "    f'ind elements must be of type (int, int), not {(type(i), type(j))}')\n",
    "    \n",
    "def assertLattice(lattice):\n",
    "    '''assert function for lattice\n",
    "    \n",
    "    assert is passed if lattice is a numpy array\n",
    "    '''\n",
    "    \n",
    "    assert type(lattice) == np.ndarray, (\n",
    "    f'lattice must be a numpy array, not {type(lattice)}')\n",
    "    "
   ]
  },
  {
   "cell_type": "code",
   "execution_count": null,
   "id": "bb17f0d1",
   "metadata": {},
   "outputs": [],
   "source": [
    "def create_lattice(p: float=0.5, \n",
    "                   N: int=20, mode: \n",
    "                   Literal['bernoulli', 'poisson', 'mixed']='bernoulli',\n",
    "                   lam: float=1) -> np.ndarray:\n",
    "    \"\"\"creates a random array filled with ones and zeroes\n",
    "    \n",
    "    Returns a shape-(N, N) array filled randomly with zeros and ones.\n",
    "    Each entry the array is sampled iid, with the probability distribution specified by mode, p, lam. \n",
    "    \n",
    "    \n",
    "    \n",
    "    Args:\n",
    "        p (float) : a number between 0 and 1, parameter for the Bernoulli distribution or masking array\n",
    "        N (int) : determines side length of the returned 2-dimensional array\n",
    "        mode (str): determines the distribution from which the array entries are drawn; \n",
    "            one of ``bernoulli``, ``poisson``, ``mixed``.\n",
    "        lam (float): a non-negative number, parameter for the Poisson distribution or masked array\n",
    "        \n",
    "    Returns:\n",
    "        A shape-(N, N) array filled with zeros and ones.\n",
    "    \n",
    "    \"\"\"\n",
    "    \n",
    "    assert 0 <= p and p <= 1, (\n",
    "    f'p must be a number between 0 and 1, not {p}')\n",
    "    \n",
    "    assert type(N) == int and N >= 0, (\n",
    "    f'N must be a non-negative integer, not {N}')\n",
    "    \n",
    "    assert mode in ['bernoulli', 'poisson', 'mixed'], (\n",
    "    f'mode must be one of bernoulli, poisson, mixed, and not {mode}.')\n",
    "    \n",
    "    assert lam > 0, (\n",
    "    f'lam must be positive, not {lam}')\n",
    "    \n",
    "    \n",
    "    rng = default_rng()\n",
    "        \n",
    "    if mode == 'bernoulli':\n",
    "        x = rng.uniform(low=0, high=1, size=(N, N))\n",
    "        y = x < p\n",
    "    elif mode == 'poisson':\n",
    "        y = rng.poisson(lam=lam, size=(N, N))\n",
    "        \n",
    "    elif mode == 'mixed':\n",
    "        x = rng.uniform(low=0, high=1, size=(N, N))\n",
    "        y1 = x < p\n",
    "        y1 = y1.astype(int)\n",
    "        \n",
    "        y2 = rng.poisson(lam=lam, size=(N, N))\n",
    "        y2 = y2.astype(int)\n",
    "        \n",
    "        y = np.multiply(y1, y2)\n",
    "        \n",
    "    return y.astype(int)\n",
    "\n",
    "\n",
    "# check if node contains fuel\n",
    "def burnable(node: Tuple[int, int],\n",
    "             lattice: np.ndarray) -> bool:\n",
    "    '''\n",
    "    returns True if the cell specified by node in lattice has value 1\n",
    "    \n",
    "    Args:\n",
    "        node (tuple[int, int]): index for accessing the cell in lattice\n",
    "        lattice (np.ndarray): array filled with zeros and ones\n",
    "    \n",
    "    '''\n",
    "    \n",
    "    \n",
    "    assertIndex(node)\n",
    "    assertLattice(lattice)\n",
    "    \n",
    "    assert in_lattice(node, lattice), (\n",
    "    f'index out of range')\n",
    "    \n",
    "    return lattice[node] > 0\n",
    "\n",
    "# returns false if index is outside of lattice\n",
    "def in_lattice(index: Tuple[int, int], \n",
    "               lattice: np.ndarray) -> bool:\n",
    "    ''' returns whether index is in the range of lattice\n",
    "    \n",
    "    Args:\n",
    "        index (tuple[int, int]): \n",
    "        lattice (np.ndarray): \n",
    "        \n",
    "    Returns:\n",
    "        (bool): True if lattice[index] does not raise index error\n",
    "    '''\n",
    "    \n",
    "    \n",
    "    assertLattice(lattice)\n",
    "    assertIndex(index)\n",
    "\n",
    "    \n",
    "    m, n = lattice.shape\n",
    "    i, j = index\n",
    "    \n",
    "    if not 0 <= i <= m-1 or not 0 <= j <= n-1:\n",
    "        return False\n",
    "    else:\n",
    "        return True\n",
    "\n",
    "def get_neighbours(node: Tuple[int, int],\n",
    "                   lattice: np.ndarray) -> List[Tuple[int, int]]:\n",
    "    '''returns a list of cell adjacent to node\n",
    "    \n",
    "    Returns a list of indices which index the cells in lattice that are neighbours of the cell indexed by node.\n",
    "    \n",
    "    \n",
    "    Args:\n",
    "        node (tuple[int, int]): index of cell in lattice for which we want the neighbours\n",
    "        lattice (np.ndarray): the lattice in which we are looking for the neighbours of the cell indexed by node\n",
    "        \n",
    "    Returns:\n",
    "        a list of indices which index the cells in lattice that are neighbours of the cell indexed by node.\n",
    "    \n",
    "    '''\n",
    "    \n",
    "    assertIndex(node)\n",
    "    assertLattice(lattice)\n",
    "    \n",
    "    # get neighbours based on reach, i.e. node value\n",
    "    # same for bernoulli and poisson modes, reach = L_inf distance\n",
    "    nbs = []\n",
    "    i, j = node\n",
    "    reach = lattice[node]\n",
    "#     k + l <= reach\n",
    "    for k in range(reach + 1):\n",
    "        for l in range(reach + 1 - k):\n",
    "            for signk in [-1, 1]:\n",
    "                for signl in [-1, 1]:\n",
    "                    nb = (i + signk*k, j + signl* l)\n",
    "                    if in_lattice(nb, lattice):\n",
    "                        nbs.append(nb)\n",
    "            \n",
    "    # remove duplicates from k=0 or l=0\n",
    "    nbs = list(set(nbs))\n",
    "    \n",
    "    # remove original node, case k=l=0\n",
    "    if node in nbs:\n",
    "        nbs.remove(node)\n",
    "        \n",
    "    return nbs\n",
    "    \n",
    "    "
   ]
  },
  {
   "cell_type": "code",
   "execution_count": 31,
   "id": "4d3fed57",
   "metadata": {},
   "outputs": [],
   "source": [
    "def simulate(p: float, N: int, \n",
    "             mode: Literal['bernoulli', 'poisson', 'mixed'], \n",
    "             lam: float=1) ->List[any]: \n",
    "    '''\n",
    "    simulates fire spreading in a randomly generated grid\n",
    "    \n",
    "    Returns a list of arrays with entries in {-1, 0, 1}. The three entries correspond to 3 states:\n",
    "    -1 : burned fuel, i.e. cell is on fire\n",
    "    0  : no fuel\n",
    "    1  : unburnt fuel\n",
    "    \n",
    "    The arrays are generated as follows:\n",
    "    - the first array is randomly generated\n",
    "    - subsequent arrays are generated from the previous array by spreading the fire from cells on fire \n",
    "      to neighbouring cells containing unburnt fuel\n",
    "      \n",
    "    Args:\n",
    "        p (float): argument is passed to ``create_lattice``\n",
    "        N (int): argument is passed to ``create_lattice``\n",
    "        mode (string): argument is passed to ``create_lattice``\n",
    "        lam (float): argument is passed to ``create_lattice``\n",
    "        \n",
    "    Returns:\n",
    "        (List[np.ndarray]): a list of arrays documenting the spread of fire at each time step\n",
    "\n",
    "    '''\n",
    "\n",
    "    # initialize\n",
    "    lattice = create_lattice(p, N, mode, lam)\n",
    "    matrices = [np.copy(lattice)]\n",
    "    \n",
    "    front = []\n",
    "    archive = []\n",
    "    \n",
    "    # add burnable nodes in top row to front\n",
    "    I, J = np.where(lattice[:1] > 0)\n",
    "    I = [int(i) for i in I]\n",
    "    J = [int(j) for j in J]\n",
    "    # print(f'I:{I}')\n",
    "    # I, J = int(I), int(J)\n",
    "    for index in zip(I, J):\n",
    "        front.append(index)\n",
    "        \n",
    "    # spread fire until front is emtpy\n",
    "    while front:\n",
    "        new_front = []\n",
    "        \n",
    "        for node in front:\n",
    "            # get neighbours before burning\n",
    "            nbs = get_neighbours(node, lattice)\n",
    "            lattice[node] = -1\n",
    "            \n",
    "            # add burnable neighbours to new front\n",
    "            for nb in nbs:\n",
    "                if not nb in front and not nb in archive and burnable(nb, lattice):\n",
    "                    new_front.append(nb)\n",
    "        \n",
    "        # update archive\n",
    "        archive = archive + front\n",
    "        # update front\n",
    "        front = new_front\n",
    "        \n",
    "        # save snapshot of current lattice\n",
    "        mat = np.copy(lattice)\n",
    "        matrices.append(mat)\n",
    "        \n",
    "    return matrices"
   ]
  },
  {
   "cell_type": "code",
   "execution_count": null,
   "id": "e53cee0a",
   "metadata": {},
   "outputs": [],
   "source": [
    "mats = simulate(p=.5, N=20, mode='poisson')"
   ]
  },
  {
   "cell_type": "markdown",
   "id": "d1e8ec84",
   "metadata": {},
   "source": [
    "# Plotting and Animating"
   ]
  },
  {
   "cell_type": "markdown",
   "id": "2118efee",
   "metadata": {},
   "source": [
    "## Create Custom Color Map"
   ]
  },
  {
   "cell_type": "markdown",
   "id": "b7a0de85",
   "metadata": {},
   "source": [
    "### Bernoulli"
   ]
  },
  {
   "cell_type": "markdown",
   "id": "ca7c185f",
   "metadata": {},
   "source": [
    "The color map for the Bernoulli case should map:\n",
    "\n",
    "- -1 (fire) to red\n",
    "- 0 (no vegetation) to orange\n",
    "- 1 (vegetation) to green"
   ]
  },
  {
   "cell_type": "code",
   "execution_count": null,
   "id": "ffcc7535",
   "metadata": {},
   "outputs": [],
   "source": [
    "mats_bernoulli = simulate(0.5, 30, 'bernoulli')"
   ]
  },
  {
   "cell_type": "code",
   "execution_count": null,
   "id": "c0b005c4",
   "metadata": {},
   "outputs": [],
   "source": [
    "from matplotlib import cm\n",
    "from matplotlib import colors\n",
    "from matplotlib.colors import ListedColormap, LinearSegmentedColormap\n"
   ]
  },
  {
   "cell_type": "code",
   "execution_count": null,
   "id": "dede7c66",
   "metadata": {},
   "outputs": [],
   "source": [
    "red = np.array([colors.to_rgba('firebrick')])\n",
    "brown = np.array([colors.to_rgba('orange')])\n",
    "greens = cm.get_cmap('Greens', 256)\n",
    "# greens = ('Greens', 256)\n",
    "\n",
    "\n"
   ]
  },
  {
   "cell_type": "code",
   "execution_count": null,
   "id": "d477189a",
   "metadata": {},
   "outputs": [],
   "source": [
    "colors_bernoulli = greens(np.linspace(0, 1, 256))\n",
    "colors_bernoulli[:48, :] = red\n",
    "colors_bernoulli[48:129, :] = brown\n",
    "cmp_bernoulli = ListedColormap(colors_bernoulli)\n",
    "\n",
    "plt.imshow(mats_bernoulli[1], cmap = cmp_bernoulli, vmin = -1)\n",
    "plt.colorbar()"
   ]
  },
  {
   "cell_type": "markdown",
   "id": "65ab2fde",
   "metadata": {},
   "source": [
    "### Poisson"
   ]
  },
  {
   "cell_type": "markdown",
   "id": "3816e6ef",
   "metadata": {},
   "source": [
    "For the Poisson case we want:\n",
    "\n",
    "- -1 to red\n",
    "- 0 to orange\n",
    "- 1-10 to green, going from light green to dark green\n",
    " \n",
    "Since in the last case we want gradient, it is easier to use a segmented color map and providing nodes for the gradient ranges.\n",
    "\n",
    "Note: We assume in this notebook that values above 10 will rarely appear. If this does not hold, then the range has to be increased beyond 10. Larger values appear with bigger lattices but mostly with higher lambda. This is especially relevant for the masked lattice case where we allow for higher lambdas but use a Bernoulli mask to keep expected value small."
   ]
  },
  {
   "cell_type": "code",
   "execution_count": null,
   "id": "4db8aa1b",
   "metadata": {},
   "outputs": [],
   "source": [
    "mats_poisson = simulate(0.5, 30, 'poisson')"
   ]
  },
  {
   "cell_type": "code",
   "execution_count": null,
   "id": "35372401",
   "metadata": {},
   "outputs": [],
   "source": [
    "colors = [\"red\", \"orange\", \"lightgreen\", \"darkgreen\"]\n",
    "cmap1 = LinearSegmentedColormap.from_list(\"mycmap\", colors)\n",
    "\n",
    "nodes = [0.0, 0.1, 0.2, 1.0]\n",
    "cmp_poisson = LinearSegmentedColormap.from_list(\"mycmap\", list(zip(nodes, colors)))\n",
    "\n",
    "\n",
    "plt.imshow(mats_poisson[1], cmap = cmp_poisson, vmin = -1, vmax = 10)\n",
    "plt.colorbar()\n",
    "plt.show()"
   ]
  },
  {
   "cell_type": "markdown",
   "id": "755b1266",
   "metadata": {},
   "source": [
    "# Create Animation"
   ]
  },
  {
   "cell_type": "code",
   "execution_count": 36,
   "id": "ce84c0d0",
   "metadata": {},
   "outputs": [],
   "source": [
    "from matplotlib.animation import FuncAnimation"
   ]
  },
  {
   "cell_type": "code",
   "execution_count": 37,
   "id": "134c3061",
   "metadata": {},
   "outputs": [],
   "source": [
    "import matplotlib.animation as animation\n",
    "from IPython import display"
   ]
  },
  {
   "cell_type": "code",
   "execution_count": 38,
   "id": "41d08403",
   "metadata": {},
   "outputs": [],
   "source": [
    "def animate_grid(ls_mats: List[np.ndarray], mode: Literal['bernoulli', 'poisson']) -> None:\n",
    "    '''creates animation from list of arrays\n",
    "    \n",
    "    \n",
    "    '''\n",
    "    if mode == 'bernoulli':\n",
    "        cmap = cmp_bernoulli\n",
    "        vmax = None\n",
    "    elif mode == 'poisson':\n",
    "        cmap  = cmp_poisson\n",
    "        vmax = 10\n",
    "    \n",
    "    ims = []\n",
    "    \n",
    "    # plot in for parameter values .2, .4, .6, .8 in a 2x2 grid\n",
    "    fig, ax = plt.subplots(2, 2)"
   ]
  },
  {
   "cell_type": "code",
   "execution_count": 39,
   "id": "411808a6",
   "metadata": {},
   "outputs": [],
   "source": [
    "def animate(mats, mode):\n",
    "    \n",
    "    if mode == 'bernoulli':\n",
    "        cmap = cmp_bernoulli\n",
    "        vmax = None\n",
    "    elif mode == 'poisson':\n",
    "        cmap  = cmp_poisson\n",
    "        vmax = 10\n",
    "        \n",
    "    ims = []\n",
    "    fig,axs = plt.subplots()\n",
    "    axs.set_xticks([])\n",
    "    axs.set_yticks([])\n",
    "    \n",
    "    for i, mat in enumerate(mats):\n",
    "        im = plt.imshow(mat, cmap = cmap, vmin = -1, vmax=vmax, animated=True)\n",
    "\n",
    "        if i==0:\n",
    "            im = plt.imshow(mat, cmap = cmap, vmin = -1, vmax=vmax, animated=True)\n",
    "            plt.colorbar()\n",
    "        ims.append([im])\n",
    "            \n",
    "    anim = animation.ArtistAnimation(fig, ims, interval=100, blit=True,\n",
    "                                    repeat_delay=1000)\n",
    "    plt.close()\n",
    "    \n",
    "    video = anim.to_html5_video()\n",
    "    html = display.HTML(video)\n",
    "    display.display(html)\n",
    "    \n",
    "# animate 4 cases of spreading in a 2x2 grid\n",
    "def animate_22(ls_mats, mode, filename):\n",
    "    if len(ls_mats) != 4:\n",
    "        print(\"Input must be a list with four matrix sequences\")\n",
    "        return\n",
    "        \n",
    "    if mode == 'bernoulli':\n",
    "        cmap = cmp_bernoulli\n",
    "        vmax = None\n",
    "    elif mode == 'poisson':\n",
    "        cmap  = cmp_poisson\n",
    "        vmax = 10\n",
    "        \n",
    "    \n",
    "    # pad matrices\n",
    "    ls_mats_padded = pad_matrices(ls_mats)\n",
    "    \n",
    "    \n",
    "    fig, axs = plt.subplots(1, 4, figsize=(12, 3))\n",
    "    fig.subplots_adjust(hspace=0.5)\n",
    "    \n",
    "    ims = []\n",
    "    \n",
    "    for ax in axs:\n",
    "        ax.set_xticks([])\n",
    "        ax.set_yticks([])\n",
    "    \n",
    "    for i in range(len(ls_mats_padded[0])):\n",
    "        mat00 = ls_mats_padded[0][i]\n",
    "        mat01 = ls_mats_padded[1][i]\n",
    "        mat10 = ls_mats_padded[2][i]\n",
    "        mat11 = ls_mats_padded[3][i]\n",
    "\n",
    "#                 im = plt.imshow(mat, cmap = cmap, vmin = -1, vmax=vmax, animated=True)\n",
    "\n",
    "        im00 =axs[0].imshow(mat00, cmap=cmap, vmin=-1, vmax=vmax, animated=True)\n",
    "        im01 =axs[1].imshow(mat01, cmap=cmap, vmin=-1, vmax=vmax, animated=True)\n",
    "        im10 =axs[2].imshow(mat10, cmap=cmap, vmin=-1, vmax=vmax, animated=True)\n",
    "        im11 =axs[3].imshow(mat11, cmap=cmap, vmin=-1, vmax=vmax, animated=True)\n",
    "        \n",
    "        if i==0:\n",
    "            im00 =axs[0].imshow(mat00, cmap=cmap, vmin=-1, vmax=vmax, animated=True)\n",
    "            im01 =axs[1].imshow(mat01, cmap=cmap, vmin=-1, vmax=vmax, animated=True)\n",
    "            im10 =axs[2].imshow(mat10, cmap=cmap, vmin=-1, vmax=vmax, animated=True)\n",
    "            im11 =axs[3].imshow(mat11, cmap=cmap, vmin=-1, vmax=vmax, animated=True)\n",
    "            fig.colorbar(im00,ax=axs, orientation='horizontal')  \n",
    "\n",
    "        ims.append([im00, im01, im10, im11])\n",
    "\n",
    "    anim = animation.ArtistAnimation(fig, ims, interval=100, blit=True,\n",
    "                                    repeat_delay=1000)\n",
    "    # plt.show()\n",
    "    plt.close()\n",
    "\n",
    "    writergif = animation.PillowWriter(fps=30)\n",
    "    anim.save(filename=filename,writer=writergif)\n",
    "\n",
    "    # video = anim.to_html5_video()\n",
    "    # html = display.HTML(video)\n",
    "    # display.display(html)\n",
    "    \n",
    "\n",
    "def pad_matrices(ls_mats):\n",
    "\n",
    "    max_length = max([len(mats) for mats in ls_mats])\n",
    "\n",
    "    ls_mats_padded = [mats + [mats[-1]]*(max_length - len(mats)) for mats in ls_mats]\n",
    "    \n",
    "    return ls_mats_padded"
   ]
  },
  {
   "cell_type": "code",
   "execution_count": 40,
   "id": "582cda2a",
   "metadata": {},
   "outputs": [],
   "source": [
    "import matplotlib.pyplot as plt\n",
    "# import matplotlib.animation\n",
    "# import numpy as np\n",
    "# from IPython.display import display, clear_output\n"
   ]
  },
  {
   "cell_type": "code",
   "execution_count": 41,
   "id": "003f1a71",
   "metadata": {},
   "outputs": [],
   "source": [
    "size = 50\n",
    "mats_bernoulli = [simulate(p, size, 'bernoulli') for p in np.arange(.2, 1, step=.2)]\n",
    "animate_22(mats_bernoulli, 'bernoulli', filename='bernoulliGrids.gif')\n"
   ]
  },
  {
   "cell_type": "markdown",
   "id": "c5b9f2a0",
   "metadata": {},
   "source": [
    "This is the generated animation\n",
    "\n",
    "<img src=\"bernoulliGrids.gif\" width=\"750\" align=\"center\">"
   ]
  },
  {
   "cell_type": "code",
   "execution_count": 42,
   "id": "39a343f0",
   "metadata": {},
   "outputs": [],
   "source": [
    "size =50\n",
    "mats_poisson = [simulate(p=0.5, N=size, mode='poisson', lam=lam) for lam in np.arange(.2, 1, step=.2)]\n",
    "animate_22(mats_poisson, 'poisson', filename='poissonGrids.gif')\n"
   ]
  },
  {
   "cell_type": "markdown",
   "id": "72a052b3",
   "metadata": {},
   "source": [
    "generated animation\n",
    "\n",
    "<img src=\"poissonGrids.gif\" width=\"750\" align=\"center\">"
   ]
  },
  {
   "cell_type": "code",
   "execution_count": 43,
   "id": "27ed8c44",
   "metadata": {},
   "outputs": [
    {
     "data": {
      "image/png": "[encoded data removed]",
      "text/plain": [
       "<Figure size 640x480 with 1 Axes>"
      ]
     },
     "metadata": {},
     "output_type": "display_data"
    }
   ],
   "source": [
    "# initializing a figure in \n",
    "# which the graph will be plotted\n",
    "fig = plt.figure() \n",
    " \n",
    "# marking the x-axis and y-axis\n",
    "axis = plt.axes(xlim =(0, 4), \n",
    "                ylim =(-2, 2)) \n",
    "\n",
    "# initializing a line variable\n",
    "line, = axis.plot([], [], lw = 3) \n",
    " \n",
    "# data which the line will \n",
    "# contain (x, y)\n",
    "def init(): \n",
    "    line.set_data([], [])\n",
    "    return line,\n",
    " \n",
    "def animate(i):\n",
    "    x = np.linspace(0, 4, 1000)\n",
    " \n",
    "    # plots a sine graph\n",
    "    y = np.sin(2 * np.pi * (x - 0.01 * i))\n",
    "    line.set_data(x, y)\n",
    "    \n",
    "    return line,\n",
    " \n",
    "anim = FuncAnimation(fig, animate, init_func = init,\n",
    "                     frames = 200, interval = 20, blit = True)\n",
    "\n",
    "writergif = animation.PillowWriter(fps=30)\n",
    "\n",
    "anim.save('continuousSineWave.gif',writer=writergif)\n",
    "# anim.save('continuousSineWave.mp4', \n",
    "#           writer = 'ffmpeg', fps = 30)"
   ]
  },
  {
   "cell_type": "markdown",
   "id": "f82caf66",
   "metadata": {},
   "source": [
    "<img src=\"continuousSineWave.gif\" width=\"750\" align=\"center\">"
   ]
  },
  {
   "cell_type": "code",
   "execution_count": 44,
   "id": "87636ae5",
   "metadata": {},
   "outputs": [],
   "source": [
    "from PIL import Image\n",
    "\n",
    "with Image.open(\"continuousSineWave.gif\") as im:\n",
    "    im.seek(1)  # skip to the second frame\n",
    "\n",
    "    try:\n",
    "        while 1:\n",
    "            im.seek(im.tell() + 1)\n",
    "            # do something to im\n",
    "    except EOFError:\n",
    "        pass  # end of sequence\n"
   ]
  },
  {
   "cell_type": "markdown",
   "id": "77a3dc3f",
   "metadata": {},
   "source": [
    "# Data Analysis "
   ]
  },
  {
   "cell_type": "markdown",
   "id": "bac3e595",
   "metadata": {},
   "source": [
    "For site percolation we want to know how likely a fire is to reach the bottom side depending on p for Bernoulli, or lambda for Poisson."
   ]
  },
  {
   "cell_type": "code",
   "execution_count": null,
   "id": "4193c3ec",
   "metadata": {},
   "outputs": [],
   "source": [
    "def reached_bottom(mat):\n",
    "    fires = mat[-1:] == -1\n",
    "    return fires.any()\n",
    "\n",
    "def get_data(P, N, iterations, mode, lam=1):\n",
    "    df = pd.DataFrame([], columns=['p', 'crossing', 'mode'])\n",
    "    for p in P:\n",
    "        for i in range(iterations):\n",
    "            mats = simulate(p, N, mode, lam)\n",
    "            new_row = {'p':p, 'crossing':reached_bottom(mats[-1]), 'mode':mode}\n",
    "            df = df.append(new_row, ignore_index=True)\n",
    "    return df"
   ]
  },
  {
   "cell_type": "markdown",
   "id": "71dcda82",
   "metadata": {},
   "source": [
    "## Bernoulli"
   ]
  },
  {
   "cell_type": "code",
   "execution_count": null,
   "id": "52581cbc",
   "metadata": {},
   "outputs": [],
   "source": [
    "iterations = 10\n",
    "N = 20\n",
    "P = np.linspace(0.1, 1, 20)\n",
    "mode = 'bernoulli'\n",
    "df = pd.DataFrame([], columns=['p', 'crossing', 'mode'])\n",
    "\n",
    "df = get_data(P, N, iterations, mode)"
   ]
  },
  {
   "cell_type": "code",
   "execution_count": null,
   "id": "ba5ed663",
   "metadata": {},
   "outputs": [],
   "source": [
    "averages = df[['p', 'crossing']].groupby('p').mean()\n",
    "\n",
    "averages['p'] = averages.index\n",
    "\n",
    "plt.subplots()\n",
    "plt.scatter('p', 'crossing', data=averages)\n",
    "plt.xlabel('p')\n",
    "plt.ylabel('crossing probability')"
   ]
  },
  {
   "cell_type": "markdown",
   "id": "03e2ec07",
   "metadata": {},
   "source": [
    "Instead of a steady increase with p, we see a sudden increase starting at the threshold around p = 0.5, as predicted by Percolation theory."
   ]
  },
  {
   "cell_type": "markdown",
   "id": "e656afb5",
   "metadata": {},
   "source": [
    "## Poisson"
   ]
  },
  {
   "cell_type": "code",
   "execution_count": null,
   "id": "09d5924b",
   "metadata": {},
   "outputs": [],
   "source": [
    "iterations = 3\n",
    "N = 15\n",
    "P = np.linspace(0.1, 1, 20)\n",
    "mode = 'poisson'\n",
    "df = pd.DataFrame([], columns=['lambda', 'crossing', 'mode'])\n",
    "\n",
    "df = get_data(P, N, iterations, mode)"
   ]
  },
  {
   "cell_type": "code",
   "execution_count": null,
   "id": "441bd3b8",
   "metadata": {},
   "outputs": [],
   "source": [
    "averages = df[['p', 'crossing']].groupby('p').mean()\n",
    "\n",
    "averages['p'] = averages.index\n",
    "\n",
    "plt.subplots()\n",
    "plt.scatter('p', 'crossing', data=averages)\n",
    "plt.xlabel('lambda')\n",
    "plt.ylabel('crossing probability')"
   ]
  },
  {
   "cell_type": "markdown",
   "id": "b229780e",
   "metadata": {},
   "source": [
    "Similary to the Bernoulli case, here we see the same jump starting at same threshold lambda = 0.5. lambda and p are different parameters of two different distributions but connected as they are the expected value of their respective distributions."
   ]
  },
  {
   "cell_type": "markdown",
   "id": "a535ebbf",
   "metadata": {},
   "source": [
    "# Masked Distribution\n",
    "In this section we combine the Poisson model above with a Bernoulli mask, i.e. each cell in the grid randomly contains vegetation to a Bernoulli distribution, and within a cell that does contain vegetation the fuel amount is modelled by a Poisson distribution. \n",
    "\n",
    "Intuitively one can imagine a situation where we have a satellite image of a specific patch of land from which we can read off the amount of canopy but the amount of vegetation covered under each piece of the canopy is unknown. However we can access empirical studies on the distribution of fuel in the ecoregion category that the patch of land falls into. "
   ]
  },
  {
   "cell_type": "markdown",
   "id": "9e96f9e5",
   "metadata": {},
   "source": [
    "## Single iteration"
   ]
  },
  {
   "cell_type": "code",
   "execution_count": null,
   "id": "74c87dfe",
   "metadata": {},
   "outputs": [],
   "source": [
    "p = 0.5\n",
    "lam = 2\n",
    "N = 50\n",
    "lat_ber = create_lattice(p, N, 'bernoulli')\n",
    "lat_pois = create_lattice(p, N, 'poisson', lam=lam)"
   ]
  },
  {
   "cell_type": "code",
   "execution_count": null,
   "id": "1ebbb5e4",
   "metadata": {},
   "outputs": [],
   "source": [
    "mats = simulate(0.05, N, 'mixed', 5)"
   ]
  },
  {
   "cell_type": "code",
   "execution_count": null,
   "id": "178b0d82",
   "metadata": {},
   "outputs": [],
   "source": [
    "animate(mats, 'poisson')"
   ]
  },
  {
   "cell_type": "markdown",
   "id": "17d4f0d3",
   "metadata": {},
   "source": [
    "## Critical Boundary"
   ]
  },
  {
   "cell_type": "markdown",
   "id": "2b78aa67",
   "metadata": {},
   "source": [
    "In the Bernoulli and Poisson cases we had a critical value for their respective parameters. In the masked case we have two parameters so we expect a critical boundary in the shape of a curve. In this section we sample p and lambda on a grid to figure out how this critical boundary looks like."
   ]
  },
  {
   "cell_type": "code",
   "execution_count": null,
   "id": "e7cf5fb1",
   "metadata": {},
   "outputs": [],
   "source": [
    "# define sampling parameters\n",
    "iterations = 25\n",
    "N = 30\n",
    "P = np.linspace(0.1, 1, 20)\n",
    "L = np.linspace(0, 5, 20)\n",
    "mode = 'mixed'\n",
    "\n",
    "# initialize data frame to store sampling results\n",
    "df = pd.DataFrame([], columns=['p', 'lambda', 'crossing', 'mode'])"
   ]
  },
  {
   "cell_type": "code",
   "execution_count": null,
   "id": "23daec1b",
   "metadata": {},
   "outputs": [],
   "source": [
    "# create sampling grid for p and lambda\n",
    "Ps, Ls = np.meshgrid(P, L, indexing='ij')\n",
    "\n",
    "for i in range(len(P)):\n",
    "    for j in range(len(L)):\n",
    "        p = Ps[i,j ]\n",
    "        lam = Ls[i, j]\n",
    "        mats = simulate(p, N,'mixed', lam)\n",
    "        new_row = {'p':p, 'lambda': lam, 'crossing': reached_bottom(mats[-1]), 'mode': mode}\n",
    "        df = df.append(new_row, ignore_index=True)"
   ]
  },
  {
   "cell_type": "code",
   "execution_count": null,
   "id": "33cf18ce",
   "metadata": {},
   "outputs": [],
   "source": [
    "# compute average crossing probability by parameters\n",
    "df2 = df.groupby(['p', 'lambda']).crossing.mean().reset_index()\n",
    "\n",
    "# plot results\n",
    "fig, ax = plt.subplots()\n",
    "\n",
    "for side in ['top', 'bottom', 'left', 'right']:\n",
    "    ax.spines[side].set_visible(False)\n",
    "    \n",
    "plt.scatter('p', 'lambda', c='crossing', data=df2, cmap='Greys')\n",
    "plt.colorbar()"
   ]
  },
  {
   "cell_type": "markdown",
   "id": "bee25746",
   "metadata": {},
   "source": [
    "Note that all we see are white and black dots, even though we are using a continuous grey scale color map. This indicates that the crossing probability jumps suddenly from 0 to 1."
   ]
  },
  {
   "cell_type": "markdown",
   "id": "e9fd5b94",
   "metadata": {},
   "source": [
    "## Data vs Theory"
   ]
  },
  {
   "cell_type": "markdown",
   "id": "5d1fc85e",
   "metadata": {},
   "source": [
    "As the last step we compare the empirical results above with the critical boundary curve predicted by theory.\n",
    "\n",
    "A crossing happens exactly when a giant connected component emerges in the network of vegetation, spanning from the top edge to the bottom edge. \\\n",
    "Theory predicts that such a giant component emerges when the average node degree is greater or equal to two, i.e. $ \\mathbb{E}[d] \\geq 2, $ \\\n",
    "where d is the degree of a randomly chosen cell. The critical boundary occurs when the above is satisfied as an equality.\n",
    "\n",
    "We set\n",
    "\\begin{align*}\n",
    "2 & =  \\mathbb{E}[d] \\\\\n",
    "  &  = \\mathbb{E}[reach] \\cdot p\n",
    "\\end{align*}\n",
    "\n",
    "where the second line follows since reach and fill are independent. \n",
    "\n",
    "It remains to compute $\\mathbb{E}[reach]$:\n",
    "\n",
    "\\begin{align*}\n",
    "\\mathbb{E}[reach]\n",
    "& = \\sum_{k = 0}^{\\infty} p(k) \\cdot reach(k) \\\\\n",
    "&= \\sum_{k = 0}^{\\infty} \\exp(-\\lambda) \\frac{\\lambda^k}{k!}2k(k+1) \\\\\n",
    "&\\approx \\sum_{k = 0}^{\\infty} \\exp(-\\lambda) \\frac{\\lambda^k}{k!}2k(k-1) \\\\\n",
    "&= 2 \\exp(-\\lambda) \\sum_{k = 2}^{\\infty} \\frac{\\lambda^k}{(k-2)!} \\\\\n",
    "&= 2 \\exp(-\\lambda) \\sum_{k = 0}^{\\infty} \\lambda^2 \\frac{\\lambda^k}{k!} \\\\\n",
    "&= 2 \\exp(-\\lambda) \\lambda^2 \\exp(\\lambda) \\\\\n",
    "&= 2 \\lambda^2\n",
    "\\end{align*}\n",
    "\n",
    "\n"
   ]
  },
  {
   "cell_type": "markdown",
   "id": "e0064684",
   "metadata": {},
   "source": [
    "where we use in line 2 that\n",
    "$$\n",
    "reach(k) = 2k(k+1).\n",
    "$$"
   ]
  },
  {
   "cell_type": "markdown",
   "id": "d7f88d65",
   "metadata": {},
   "source": [
    "We obtain the critical boundary at\n",
    "\n",
    "\\begin{align*}\n",
    "& 2 = p \\cdot 2 \\lambda^2 \\\\\n",
    "\\Leftrightarrow & \\lambda = \\frac{1}{\\sqrt{p}}\n",
    "\\end{align*}\n"
   ]
  },
  {
   "cell_type": "markdown",
   "id": "fae46aeb",
   "metadata": {},
   "source": []
  },
  {
   "cell_type": "code",
   "execution_count": null,
   "id": "b90308cd",
   "metadata": {},
   "outputs": [],
   "source": [
    "# plot results\n",
    "\n",
    "    \n",
    "fig, ax = plt.subplots()\n",
    "\n",
    "for side in ['top', 'bottom', 'left', 'right']:\n",
    "    ax.spines[side].set_visible(False)\n",
    "\n",
    "    \n",
    "plt.scatter('p', 'lambda', c='crossing', data=df2, cmap='Greys')\n",
    "\n",
    "# plot 1/sqrt(x), boundary predicted by theory\n",
    "X = np.linspace(0.1, 1, 20)\n",
    "Y = [1/np.sqrt(x) for x in X]\n",
    "\n",
    "plt.plot(X, Y, color='r')\n"
   ]
  },
  {
   "cell_type": "markdown",
   "id": "a6f4b94a",
   "metadata": {},
   "source": [
    "The fit is not perfect, error could origininate from the approximation step or theory assuming random graph."
   ]
  }
 ],
 "metadata": {
  "kernelspec": {
   "display_name": "Python 3",
   "language": "python",
   "name": "python3"
  },
  "language_info": {
   "codemirror_mode": {
    "name": "ipython",
    "version": 3
   },
   "file_extension": ".py",
   "mimetype": "text/x-python",
   "name": "python",
   "nbconvert_exporter": "python",
   "pygments_lexer": "ipython3",
   "version": "3.13.3"
  }
 },
 "nbformat": 4,
 "nbformat_minor": 5
}
