{
 "cells": [
  {
   "cell_type": "code",
   "execution_count": 130,
   "id": "3cfe75c5",
   "metadata": {},
   "outputs": [],
   "source": [
    "import pandas as pd\n",
    "import numpy as np\n",
    "from numpy.random import default_rng\n",
    "from matplotlib import pyplot as plt"
   ]
  },
  {
   "cell_type": "markdown",
   "id": "fc409e69",
   "metadata": {},
   "source": [
    "# Introduction\n",
    "This notebook explores the classic percolation model for bushfire modelling and considers the Poisson distribution later."
   ]
  },
  {
   "cell_type": "code",
   "execution_count": 119,
   "id": "bb17f0d1",
   "metadata": {},
   "outputs": [],
   "source": [
    "def create_lattice(p, N, mode):\n",
    "    rng = default_rng()\n",
    "        \n",
    "    if mode == 'bernoulli':\n",
    "        x = rng.uniform(low=0, high=1, size=(N, N))\n",
    "        y = x < p\n",
    "    elif mode == 'poisson':\n",
    "        y = rng.poisson(lam=p, size=(N, N))\n",
    "    return y.astype(int)\n",
    "\n",
    "# check if node contains fuel\n",
    "def burnable(node, lattice):\n",
    "    return lattice[node] > 0\n",
    "\n",
    "# returns false if index is outside of lattice\n",
    "def in_lattice(index, lattice):\n",
    "    m, n = lattice.shape\n",
    "    i, j = index\n",
    "    if not 0 <= i <= m-1 or not 0 <= j <= n-1:\n",
    "        return False\n",
    "    else:\n",
    "        return True\n",
    "\n",
    "def get_neighbours(node, lattice):\n",
    "    # get neighbours based on reach, i.e. node value\n",
    "    # same for bernoulli and poisson modes, reach = L_inf distance\n",
    "    nbs = []\n",
    "    i, j = node\n",
    "    reach = lattice[node]\n",
    "#     k + l <= reach\n",
    "    for k in range(reach + 1):\n",
    "        for l in range(reach + 1 - k):\n",
    "            for signk in [-1, 1]:\n",
    "                for signl in [-1, 1]:\n",
    "                    nb = (i + signk*k, j + signl* l)\n",
    "                    if in_lattice(nb, lattice):\n",
    "                        nbs.append(nb)\n",
    "            \n",
    "    # remove duplicates from k=0 or l=0\n",
    "    nbs = list(set(nbs))\n",
    "    # remove original node, case k=l=0\n",
    "    if node in nbs:\n",
    "        nbs.remove(node)\n",
    "    return nbs\n",
    "    \n",
    "    "
   ]
  },
  {
   "cell_type": "markdown",
   "id": "71768421",
   "metadata": {},
   "source": [
    "## Testing"
   ]
  },
  {
   "cell_type": "code",
   "execution_count": 120,
   "id": "b90b582f",
   "metadata": {},
   "outputs": [
    {
     "data": {
      "text/plain": [
       "array([[1, 0, 0, 0, 1],\n",
       "       [0, 0, 1, 1, 1],\n",
       "       [1, 1, 1, 0, 0],\n",
       "       [1, 1, 1, 0, 0],\n",
       "       [1, 0, 1, 1, 0]])"
      ]
     },
     "execution_count": 120,
     "metadata": {},
     "output_type": "execute_result"
    }
   ],
   "source": [
    "x = create_lattice(.5, 5, 'bernoulli')\n",
    "x"
   ]
  },
  {
   "cell_type": "code",
   "execution_count": 121,
   "id": "7eb4815c",
   "metadata": {},
   "outputs": [
    {
     "data": {
      "text/plain": [
       "array([[0, 0, 1, 0, 1],\n",
       "       [1, 0, 1, 1, 0],\n",
       "       [0, 1, 1, 0, 2],\n",
       "       [1, 1, 1, 0, 0],\n",
       "       [1, 1, 1, 0, 0]])"
      ]
     },
     "execution_count": 121,
     "metadata": {},
     "output_type": "execute_result"
    }
   ],
   "source": [
    "y = create_lattice(.5, 5, 'poisson')\n",
    "y"
   ]
  },
  {
   "cell_type": "code",
   "execution_count": 122,
   "id": "364a0a46",
   "metadata": {},
   "outputs": [
    {
     "name": "stdout",
     "output_type": "stream",
     "text": [
      "True\n",
      "True\n"
     ]
    }
   ],
   "source": [
    "index = (0, 0)\n",
    "print(in_lattice(index, x))\n",
    "print(in_lattice((0, 4), x))\n"
   ]
  },
  {
   "cell_type": "code",
   "execution_count": 123,
   "id": "ccdcf90d",
   "metadata": {},
   "outputs": [
    {
     "data": {
      "text/plain": [
       "[]"
      ]
     },
     "execution_count": 123,
     "metadata": {},
     "output_type": "execute_result"
    }
   ],
   "source": [
    "get_neighbours((0, 1), x)"
   ]
  },
  {
   "cell_type": "code",
   "execution_count": 124,
   "id": "4d3fed57",
   "metadata": {},
   "outputs": [],
   "source": [
    "def simulate(p, N, mode):\n",
    "    # initialize\n",
    "    lattice = create_lattice(p, N, mode)\n",
    "    matrices = [np.copy(lattice)]\n",
    "    \n",
    "    front = []\n",
    "    archive = []\n",
    "    \n",
    "    # add burnable nodes in top row to front\n",
    "    I, J = np.where(lattice[:1] > 0)\n",
    "    for index in zip(I, J):\n",
    "        front.append(index)\n",
    "        \n",
    "    # spread fire until front is emtpy\n",
    "    while front:\n",
    "        new_front = []\n",
    "        \n",
    "        for node in front:\n",
    "            # get neighbours before burning\n",
    "            nbs = get_neighbours(node, lattice)\n",
    "            lattice[node] = -1\n",
    "            \n",
    "            # add burnable neighbours to new front\n",
    "            for nb in nbs:\n",
    "                if not nb in front and not nb in archive and burnable(nb, lattice):\n",
    "                    new_front.append(nb)\n",
    "        \n",
    "        # update archive\n",
    "        archive = archive + front\n",
    "        # update front\n",
    "        front = new_front\n",
    "        \n",
    "        # save snapshot of current lattice\n",
    "        mat = np.copy(lattice)\n",
    "        matrices.append(mat)\n",
    "        \n",
    "    return matrices"
   ]
  },
  {
   "cell_type": "code",
   "execution_count": 155,
   "id": "e53cee0a",
   "metadata": {},
   "outputs": [],
   "source": [
    "mats = simulate(.5, 5, 'poisson')"
   ]
  },
  {
   "cell_type": "code",
   "execution_count": 156,
   "id": "56a949b6",
   "metadata": {},
   "outputs": [
    {
     "name": "stdout",
     "output_type": "stream",
     "text": [
      "[[1 0 0 0 2]\n",
      " [0 2 0 0 0]\n",
      " [1 1 1 0 1]\n",
      " [0 0 0 0 0]\n",
      " [1 0 2 0 0]] \n",
      "\n",
      "[[-1  0  0  0 -1]\n",
      " [ 0  2  0  0  0]\n",
      " [ 1  1  1  0  1]\n",
      " [ 0  0  0  0  0]\n",
      " [ 1  0  2  0  0]] \n",
      "\n",
      "[[-1  0  0  0 -1]\n",
      " [ 0  2  0  0  0]\n",
      " [ 1  1  1  0 -1]\n",
      " [ 0  0  0  0  0]\n",
      " [ 1  0  2  0  0]] \n",
      "\n"
     ]
    }
   ],
   "source": [
    "for mat in mats:\n",
    "    print(mat, '\\n')"
   ]
  },
  {
   "cell_type": "markdown",
   "id": "d1e8ec84",
   "metadata": {},
   "source": [
    "# Plotting and Animating"
   ]
  },
  {
   "cell_type": "code",
   "execution_count": 131,
   "id": "cc8c5323",
   "metadata": {},
   "outputs": [],
   "source": [
    "mat = mats[0]"
   ]
  },
  {
   "cell_type": "code",
   "execution_count": 132,
   "id": "487a1897",
   "metadata": {},
   "outputs": [
    {
     "data": {
      "text/plain": [
       "<matplotlib.image.AxesImage at 0x19fc8b14c70>"
      ]
     },
     "execution_count": 132,
     "metadata": {},
     "output_type": "execute_result"
    },
    {
     "data": {
      "image/png": "[encoded data removed]",
      "text/plain": [
       "<Figure size 432x288 with 1 Axes>"
      ]
     },
     "metadata": {
      "needs_background": "light"
     },
     "output_type": "display_data"
    }
   ],
   "source": [
    "plt.subplots()\n",
    "plt.imshow(mat)"
   ]
  },
  {
   "cell_type": "markdown",
   "id": "2118efee",
   "metadata": {},
   "source": [
    "## Create Custom Color Map"
   ]
  },
  {
   "cell_type": "code",
   "execution_count": 144,
   "id": "c0b005c4",
   "metadata": {},
   "outputs": [],
   "source": [
    "from matplotlib import cm\n",
    "from matplotlib import colors\n",
    "from matplotlib.colors import ListedColormap"
   ]
  },
  {
   "cell_type": "code",
   "execution_count": 145,
   "id": "dede7c66",
   "metadata": {},
   "outputs": [],
   "source": [
    "red = np.array([colors.to_rgba('firebrick')])\n",
    "brown = np.array([colors.to_rgba('tan')])\n",
    "greens = cm.get_cmap('Greens', 256)\n",
    "newcolors = greens(np.linspace(0, 1, 256))\n"
   ]
  },
  {
   "cell_type": "code",
   "execution_count": 158,
   "id": "d477189a",
   "metadata": {},
   "outputs": [],
   "source": [
    "newcolors[:25, :] = red\n",
    "newcolors[25:129, :] = brown\n",
    "newcmp = ListedColormap(newcolors)"
   ]
  },
  {
   "cell_type": "code",
   "execution_count": 159,
   "id": "ce57bb01",
   "metadata": {},
   "outputs": [
    {
     "data": {
      "text/plain": [
       "<matplotlib.colorbar.Colorbar at 0x19fca1e2940>"
      ]
     },
     "execution_count": 159,
     "metadata": {},
     "output_type": "execute_result"
    },
    {
     "data": {
      "image/png": "[encoded data removed]",
      "text/plain": [
       "<Figure size 432x288 with 2 Axes>"
      ]
     },
     "metadata": {
      "needs_background": "light"
     },
     "output_type": "display_data"
    }
   ],
   "source": [
    "plt.imshow(mats[1], cmap = newcmp, vmin = -1)\n",
    "plt.colorbar("
   ]
  },
  {
   "cell_type": "markdown",
   "id": "755b1266",
   "metadata": {},
   "source": [
    "# Create Animation"
   ]
  },
  {
   "cell_type": "code",
   "execution_count": 162,
   "id": "8c963079",
   "metadata": {},
   "outputs": [
    {
     "data": {
      "text/plain": [
       "<matplotlib.colorbar.Colorbar at 0x19fca31ed30>"
      ]
     },
     "execution_count": 162,
     "metadata": {},
     "output_type": "execute_result"
    },
    {
     "data": {
      "image/png": "[encoded data removed]",
      "text/plain": [
       "<Figure size 432x288 with 2 Axes>"
      ]
     },
     "metadata": {
      "needs_background": "light"
     },
     "output_type": "display_data"
    }
   ],
   "source": [
    "ims = []\n",
    "plt.subplots()\n",
    "for mat in mats:\n",
    "    im = plt.imshow(mat, cmap = newcmp, vmin = -1)\n",
    "    ims.append(im)\n",
    "plt.colorbar()"
   ]
  }
 ],
 "metadata": {
  "kernelspec": {
   "display_name": "Python 3 (ipykernel)",
   "language": "python",
   "name": "python3"
  },
  "language_info": {
   "codemirror_mode": {
    "name": "ipython",
    "version": 3
   },
   "file_extension": ".py",
   "mimetype": "text/x-python",
   "name": "python",
   "nbconvert_exporter": "python",
   "pygments_lexer": "ipython3",
   "version": "3.9.7"
  }
 },
 "nbformat": 4,
 "nbformat_minor": 5
}
