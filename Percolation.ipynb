{
 "cells": [
  {
   "cell_type": "code",
   "execution_count": 6,
   "id": "3cfe75c5",
   "metadata": {},
   "outputs": [],
   "source": [
    "import pandas as pd\n",
    "import numpy as np\n",
    "from numpy.random import default_rng"
   ]
  },
  {
   "cell_type": "markdown",
   "id": "fc409e69",
   "metadata": {},
   "source": [
    "# Introduction\n",
    "This notebook explores the classic percolation model for bushfire modelling and considers the Poisson distribution later."
   ]
  },
  {
   "cell_type": "code",
   "execution_count": 49,
   "id": "bb17f0d1",
   "metadata": {},
   "outputs": [],
   "source": [
    "def create_lattice(p, N, mode):\n",
    "    rng = default_rng(12345)\n",
    "    if mode == 'bernoulli':\n",
    "        x = rng.uniform(low=0, high=1, size=(N, N))\n",
    "        y = x < p\n",
    "    elif mode == 'poisson':\n",
    "        y = rng.poisson(lam=p, size=(N, N))\n",
    "    return y.astype(int)\n",
    "\n",
    "# returns false if index is outside of lattice\n",
    "def in_lattice(index, lattice):\n",
    "    m, n = lattice.shape\n",
    "    i, j = index\n",
    "    if not 0 <= i <= m-1 or not 0 <= j <= n-1:\n",
    "        return False\n",
    "    else:\n",
    "        return True\n",
    "\n",
    "def get_neighbours(node, lattice):\n",
    "    # get neighbours based on reach, i.e. node value\n",
    "    # same for bernoulli and poisson modes, reach = L_inf distance\n",
    "    nbs = []\n",
    "    i, j = node\n",
    "    reach = lattice[node]\n",
    "#     k + l <= reach\n",
    "    for k in range(reach + 1):\n",
    "        for l in range(reach + 1 - k):\n",
    "            for signk in [-1, 1]:\n",
    "                for signl in [-1, 1]:\n",
    "                    nb = (i + signk*k, j + signl* l)\n",
    "                    if in_lattice(nb, lattice):\n",
    "                        nbs.append(nb)\n",
    "            \n",
    "    # remove duplicates from k=0 or l=0\n",
    "    nbs = list(set(nbs))\n",
    "    # remove original node, case k=l=0\n",
    "    if node in nbs:\n",
    "        nbs.remove(node)\n",
    "    return nbs\n",
    "    \n",
    "    "
   ]
  },
  {
   "cell_type": "markdown",
   "id": "9c29433f",
   "metadata": {},
   "source": [
    "## Testing"
   ]
  },
  {
   "cell_type": "code",
   "execution_count": 50,
   "id": "1efbc997",
   "metadata": {},
   "outputs": [
    {
     "data": {
      "text/plain": [
       "array([[1, 1, 0, 0, 1],\n",
       "       [1, 0, 1, 0, 0],\n",
       "       [1, 0, 0, 1, 1],\n",
       "       [0, 0, 1, 0, 1],\n",
       "       [1, 1, 1, 1, 1]])"
      ]
     },
     "execution_count": 50,
     "metadata": {},
     "output_type": "execute_result"
    }
   ],
   "source": [
    "x = create_lattice(.5, 5, 'bernoulli')\n",
    "x"
   ]
  },
  {
   "cell_type": "code",
   "execution_count": 21,
   "id": "ebd30ba8",
   "metadata": {},
   "outputs": [
    {
     "data": {
      "text/plain": [
       "array([[0, 0, 1, 0, 0],\n",
       "       [0, 0, 2, 2, 0],\n",
       "       [2, 1, 0, 0, 0],\n",
       "       [0, 0, 1, 0, 0],\n",
       "       [0, 1, 2, 1, 1]])"
      ]
     },
     "execution_count": 21,
     "metadata": {},
     "output_type": "execute_result"
    }
   ],
   "source": [
    "y = create_lattice(.5, 5, 'poisson')\n",
    "y"
   ]
  },
  {
   "cell_type": "code",
   "execution_count": 32,
   "id": "42065320",
   "metadata": {},
   "outputs": [
    {
     "name": "stdout",
     "output_type": "stream",
     "text": [
      "True\n",
      "True\n"
     ]
    }
   ],
   "source": [
    "index = (0, 0)\n",
    "print(in_lattice(index, x))\n",
    "print(in_lattice((0, 4), x))\n"
   ]
  },
  {
   "cell_type": "code",
   "execution_count": 42,
   "id": "ade8971a",
   "metadata": {},
   "outputs": [
    {
     "data": {
      "text/plain": [
       "[(0, 2), (1, 1), (0, 0)]"
      ]
     },
     "execution_count": 42,
     "metadata": {},
     "output_type": "execute_result"
    }
   ],
   "source": [
    "get_neighbours((0, 1), x)"
   ]
  },
  {
   "cell_type": "code",
   "execution_count": 51,
   "id": "4d3fed57",
   "metadata": {},
   "outputs": [],
   "source": [
    "def simulate(p, N, mode):\n",
    "    matrices = []\n",
    "    lattice = create_lattice(p, N, mode)\n",
    "    front = []\n",
    "    archive = []\n",
    "    \n",
    "    # add top row to front\n",
    "    I, J = np.where(lattice[:1] > 0)\n",
    "    for index in zip(I, J):\n",
    "        front.append(index)\n",
    "        \n",
    "    # spread fire\n",
    "    while front:\n",
    "        new_front = []\n",
    "        mat = lattice.copy()\n",
    "#         mat = np.copy(lattice)\n",
    "        matrices.append(mat)\n",
    "        \n",
    "        for node in front:\n",
    "            nbs = get_neighbours(node, lattice)\n",
    "            for nb in nbs:\n",
    "                if not nb in front and not nb in archive:\n",
    "                    new_front.append(nb)\n",
    "                    lattice[nb] = -1\n",
    "        front = new_front\n",
    "    return matrices"
   ]
  },
  {
   "cell_type": "code",
   "execution_count": 53,
   "id": "e53cee0a",
   "metadata": {},
   "outputs": [],
   "source": [
    "mats = simulate(.5, 5, 'bernoulli')"
   ]
  },
  {
   "cell_type": "code",
   "execution_count": null,
   "id": "1312c405",
   "metadata": {},
   "outputs": [],
   "source": []
  }
 ],
 "metadata": {
  "kernelspec": {
   "display_name": "Python 3 (ipykernel)",
   "language": "python",
   "name": "python3"
  },
  "language_info": {
   "codemirror_mode": {
    "name": "ipython",
    "version": 3
   },
   "file_extension": ".py",
   "mimetype": "text/x-python",
   "name": "python",
   "nbconvert_exporter": "python",
   "pygments_lexer": "ipython3",
   "version": "3.9.7"
  }
 },
 "nbformat": 4,
 "nbformat_minor": 5
}
