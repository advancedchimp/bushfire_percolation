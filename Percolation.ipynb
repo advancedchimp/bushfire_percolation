{
 "cells": [
  {
   "cell_type": "code",
   "execution_count": 25,
   "id": "3cfe75c5",
   "metadata": {},
   "outputs": [],
   "source": [
    "import pandas as pd\n",
    "import numpy as np\n",
    "from numpy.random import default_rng"
   ]
  },
  {
   "cell_type": "markdown",
   "id": "fc409e69",
   "metadata": {},
   "source": [
    "# Introduction\n",
    "This notebook explores the classic percolation model for bushfire modelling and considers the Poisson distribution later."
   ]
  },
  {
   "cell_type": "code",
   "execution_count": 52,
   "id": "43cc1927",
   "metadata": {},
   "outputs": [
    {
     "data": {
      "text/plain": [
       "array([[ True,  True, False, False,  True],\n",
       "       [ True, False,  True, False, False],\n",
       "       [ True, False, False,  True,  True],\n",
       "       [False, False,  True, False,  True],\n",
       "       [ True,  True,  True,  True,  True]])"
      ]
     },
     "execution_count": 52,
     "metadata": {},
     "output_type": "execute_result"
    }
   ],
   "source": [
    "x < .5"
   ]
  },
  {
   "cell_type": "code",
   "execution_count": 83,
   "id": "1d033753",
   "metadata": {},
   "outputs": [
    {
     "data": {
      "text/plain": [
       "array([[0.22733602, 0.31675834, 0.79736546, 0.67625467, 0.39110955],\n",
       "       [0.33281393, 0.59830875, 0.18673419, 0.67275604, 0.94180287],\n",
       "       [0.24824571, 0.94888115, 0.66723745, 0.09589794, 0.44183967],\n",
       "       [0.88647992, 0.6974535 , 0.32647286, 0.73392816, 0.22013496],\n",
       "       [0.08159457, 0.1598956 , 0.34010018, 0.46519315, 0.26642103]])"
      ]
     },
     "execution_count": 83,
     "metadata": {},
     "output_type": "execute_result"
    }
   ],
   "source": [
    "x"
   ]
  },
  {
   "cell_type": "code",
   "execution_count": null,
   "id": "3f43465e",
   "metadata": {},
   "outputs": [],
   "source": []
  },
  {
   "cell_type": "code",
   "execution_count": 84,
   "id": "4e77b412",
   "metadata": {},
   "outputs": [
    {
     "data": {
      "text/plain": [
       "0.5983087535871898"
      ]
     },
     "execution_count": 84,
     "metadata": {},
     "output_type": "execute_result"
    }
   ],
   "source": [
    "index = (1, 1)\n",
    "x[index]"
   ]
  },
  {
   "cell_type": "code",
   "execution_count": 77,
   "id": "2c3aabeb",
   "metadata": {},
   "outputs": [],
   "source": [
    "I, J = np.where(x[:1] < .5)\n",
    "Z = zip(I, J)"
   ]
  },
  {
   "cell_type": "code",
   "execution_count": 60,
   "id": "bb17f0d1",
   "metadata": {},
   "outputs": [],
   "source": [
    "def create_lattice(p, N, mode):\n",
    "    rng = default_rng(12345)\n",
    "    if mode == 'bernoulli':\n",
    "        x = rng.uniform(low=0, high=1, size=(N, N))\n",
    "        y = x < p\n",
    "    elif mode == 'poisson':\n",
    "        y = rng.poisson(lam=p, size=(N, N))\n",
    "    return y.astype(int)\n",
    "\n",
    "# returns false if index is outside of lattice\n",
    "def in_lattice(index, lattice):\n",
    "    m, n = lattice.shape\n",
    "    i, j = index\n",
    "    if not 0 <= i <= m-1 or not 0 <= j <= n-1:\n",
    "        return False\n",
    "    else:\n",
    "        return True\n",
    "\n",
    "def get_neighbours(node, lattice):\n",
    "    # get neighbours based on reach, i.e. node value\n",
    "    # same for bernoulli and poisson modes, reach = L_inf distance\n",
    "    nbs = []\n",
    "    i, j = node\n",
    "    reach = lattice[node]\n",
    "    \n",
    "    "
   ]
  },
  {
   "cell_type": "code",
   "execution_count": 79,
   "id": "4d3fed57",
   "metadata": {},
   "outputs": [],
   "source": [
    "def simulate(p, N, mode):\n",
    "    matrices = []\n",
    "    lattice = create_lattice(p, N, mode)\n",
    "    front = []\n",
    "    archive = []\n",
    "    \n",
    "    # add top row to front\n",
    "    I, J = np.where(lattice[:1] > 0)\n",
    "    for index in zip(I, J):\n",
    "        front.append(index)\n",
    "        \n",
    "    # spread fire\n",
    "    While front not empty:\n",
    "        new_front = []\n",
    "        mat = np.copy(lattice)\n",
    "        matrices.append(mat)\n",
    "        \n",
    "        for node in front:\n",
    "            nbs = get_neighbours(node, lattice)\n",
    "    return matrices"
   ]
  },
  {
   "cell_type": "code",
   "execution_count": 80,
   "id": "e53cee0a",
   "metadata": {},
   "outputs": [
    {
     "name": "stdout",
     "output_type": "stream",
     "text": [
      "[(0, 0), (0, 1), (0, 4)]\n"
     ]
    },
    {
     "data": {
      "text/plain": [
       "[]"
      ]
     },
     "execution_count": 80,
     "metadata": {},
     "output_type": "execute_result"
    }
   ],
   "source": [
    "simulate(.5, 5, 'bernoulli')"
   ]
  }
 ],
 "metadata": {
  "kernelspec": {
   "display_name": "Python 3 (ipykernel)",
   "language": "python",
   "name": "python3"
  },
  "language_info": {
   "codemirror_mode": {
    "name": "ipython",
    "version": 3
   },
   "file_extension": ".py",
   "mimetype": "text/x-python",
   "name": "python",
   "nbconvert_exporter": "python",
   "pygments_lexer": "ipython3",
   "version": "3.9.7"
  }
 },
 "nbformat": 4,
 "nbformat_minor": 5
}
